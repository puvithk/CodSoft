{
 "cells": [
  {
   "cell_type": "markdown",
   "metadata": {
    "id": "tCCXKQHzqy4j"
   },
   "source": [
    "#Importing Modules\n"
   ]
  },
  {
   "cell_type": "code",
   "execution_count": 17,
   "metadata": {
    "colab": {
     "base_uri": "https://localhost:8080/"
    },
    "id": "Na7O2OmJ2Xfy",
    "outputId": "0197fbf0-0802-4836-b485-c139a9122a24"
   },
   "outputs": [
    {
     "name": "stderr",
     "output_type": "stream",
     "text": [
      "[nltk_data] Downloading package punkt to\n",
      "[nltk_data]     C:\\Users\\puvit\\AppData\\Roaming\\nltk_data...\n",
      "[nltk_data]   Package punkt is already up-to-date!\n",
      "[nltk_data] Downloading package stopwords to\n",
      "[nltk_data]     C:\\Users\\puvit\\AppData\\Roaming\\nltk_data...\n",
      "[nltk_data]   Package stopwords is already up-to-date!\n"
     ]
    },
    {
     "data": {
      "text/plain": [
       "True"
      ]
     },
     "execution_count": 17,
     "metadata": {},
     "output_type": "execute_result"
    }
   ],
   "source": [
    "import pandas as pd\n",
    "from matplotlib import pyplot as plt\n",
    "import chardet\n",
    "from nltk.stem import PorterStemmer\n",
    "from nltk import word_tokenize\n",
    "import nltk\n",
    "from nltk.corpus import stopwords\n",
    "import string\n",
    "from string import punctuation\n",
    "from wordcloud import WordCloud\n",
    "import seaborn as sns\n",
    "from sklearn.metrics import accuracy_score,precision_score\n",
    "from sklearn.naive_bayes import GaussianNB,BernoulliNB,MultinomialNB\n",
    "from sklearn.feature_extraction.text import CountVectorizer,TfidfVectorizer,TfidfTransformer\n",
    "from sklearn.model_selection import train_test_split\n",
    "\n",
    "nltk.download('punkt')\n",
    "nltk.download('stopwords')\n",
    "\n"
   ]
  },
  {
   "cell_type": "markdown",
   "metadata": {
    "id": "zH4Yctu0q6v4"
   },
   "source": [
    "#Creating Object\n"
   ]
  },
  {
   "cell_type": "code",
   "execution_count": 18,
   "metadata": {
    "id": "TrokfMpU2jjc"
   },
   "outputs": [],
   "source": [
    "CountV = CountVectorizer()\n",
    "Tfidf = TfidfTransformer()\n",
    "TfidfV = TfidfVectorizer()\n",
    "GNM = GaussianNB()\n",
    "BNM = BernoulliNB()\n",
    "MNM = MultinomialNB()\n",
    "\n"
   ]
  },
  {
   "cell_type": "markdown",
   "metadata": {
    "id": "qzAR8SCFu5uR"
   },
   "source": [
    "#Loading CSV files\n"
   ]
  },
  {
   "cell_type": "code",
   "execution_count": 19,
   "metadata": {
    "colab": {
     "base_uri": "https://localhost:8080/"
    },
    "id": "HI1hkM2X4euv",
    "outputId": "17457e58-7ace-4d67-879d-662a624c4295"
   },
   "outputs": [
    {
     "name": "stdout",
     "output_type": "stream",
     "text": [
      "<class 'pandas.core.frame.DataFrame'>\n",
      "RangeIndex: 5572 entries, 0 to 5571\n",
      "Data columns (total 2 columns):\n",
      " #   Column   Non-Null Count  Dtype \n",
      "---  ------   --------------  ----- \n",
      " 0   Message  5572 non-null   object\n",
      " 1   Result   5572 non-null   object\n",
      "dtypes: object(2)\n",
      "memory usage: 87.2+ KB\n"
     ]
    }
   ],
   "source": [
    "\n",
    "with open(\"spam.csv\", 'rb') as f:\n",
    "    result = chardet.detect(f.read())\n",
    "df = pd.read_csv(\"spam.csv\", encoding=result['encoding'])\n",
    "\n",
    "df[\"Message\"] = df[\"v2\"]\n",
    "df.drop('v2', axis=1, inplace=True)\n",
    "df[\"Result\"] = df[\"v1\"]\n",
    "df.drop(\"v1\",axis =1 ,inplace =True)\n",
    "df = df.loc[:, ~df.columns.str.contains('^Unnamed')]\n",
    "df.info()"
   ]
  },
  {
   "cell_type": "markdown",
   "metadata": {
    "id": "QwDrGzIZvDF-"
   },
   "source": [
    "#Finding any extra feature\n",
    "Feature extraction\n"
   ]
  },
  {
   "cell_type": "code",
   "execution_count": 20,
   "metadata": {
    "id": "T0Q9WNEF4jYZ"
   },
   "outputs": [],
   "source": [
    "def find_word(text):\n",
    "  newlist  = text.split()\n",
    "  newnum = 0\n",
    "  for i in newlist:\n",
    "    newnum += len(i)\n",
    "  return len(newlist)\n",
    "def find_char(text):\n",
    "  newlist  = text.split()\n",
    "  newnum = 0\n",
    "  for i in newlist:\n",
    "    newnum += len(i)\n",
    "  return newnum\n",
    "\n",
    "df[\"No_of_words\"] = df[\"Message\"].apply(find_word)\n",
    "df[\"No_of_chareter\"] = df[\"Message\"].apply(find_char)\n",
    "df[\"Result\"] = df[\"Result\"].apply(lambda x : 0 if x==\"ham\" else 1 )\n"
   ]
  },
  {
   "cell_type": "code",
   "execution_count": 21,
   "metadata": {
    "colab": {
     "base_uri": "https://localhost:8080/",
     "height": 206
    },
    "id": "IpvIIzpi4m7I",
    "outputId": "141f7770-6679-41c4-f222-c627ed85d10d"
   },
   "outputs": [
    {
     "data": {
      "text/html": [
       "<div>\n",
       "<style scoped>\n",
       "    .dataframe tbody tr th:only-of-type {\n",
       "        vertical-align: middle;\n",
       "    }\n",
       "\n",
       "    .dataframe tbody tr th {\n",
       "        vertical-align: top;\n",
       "    }\n",
       "\n",
       "    .dataframe thead th {\n",
       "        text-align: right;\n",
       "    }\n",
       "</style>\n",
       "<table border=\"1\" class=\"dataframe\">\n",
       "  <thead>\n",
       "    <tr style=\"text-align: right;\">\n",
       "      <th></th>\n",
       "      <th>Message</th>\n",
       "      <th>Result</th>\n",
       "      <th>No_of_words</th>\n",
       "      <th>No_of_chareter</th>\n",
       "    </tr>\n",
       "  </thead>\n",
       "  <tbody>\n",
       "    <tr>\n",
       "      <th>0</th>\n",
       "      <td>Go until jurong point, crazy.. Available only ...</td>\n",
       "      <td>0</td>\n",
       "      <td>20</td>\n",
       "      <td>92</td>\n",
       "    </tr>\n",
       "    <tr>\n",
       "      <th>1</th>\n",
       "      <td>Ok lar... Joking wif u oni...</td>\n",
       "      <td>0</td>\n",
       "      <td>6</td>\n",
       "      <td>24</td>\n",
       "    </tr>\n",
       "    <tr>\n",
       "      <th>2</th>\n",
       "      <td>Free entry in 2 a wkly comp to win FA Cup fina...</td>\n",
       "      <td>1</td>\n",
       "      <td>28</td>\n",
       "      <td>128</td>\n",
       "    </tr>\n",
       "    <tr>\n",
       "      <th>3</th>\n",
       "      <td>U dun say so early hor... U c already then say...</td>\n",
       "      <td>0</td>\n",
       "      <td>11</td>\n",
       "      <td>39</td>\n",
       "    </tr>\n",
       "    <tr>\n",
       "      <th>4</th>\n",
       "      <td>Nah I don't think he goes to usf, he lives aro...</td>\n",
       "      <td>0</td>\n",
       "      <td>13</td>\n",
       "      <td>49</td>\n",
       "    </tr>\n",
       "  </tbody>\n",
       "</table>\n",
       "</div>"
      ],
      "text/plain": [
       "                                             Message  Result  No_of_words  \\\n",
       "0  Go until jurong point, crazy.. Available only ...       0           20   \n",
       "1                      Ok lar... Joking wif u oni...       0            6   \n",
       "2  Free entry in 2 a wkly comp to win FA Cup fina...       1           28   \n",
       "3  U dun say so early hor... U c already then say...       0           11   \n",
       "4  Nah I don't think he goes to usf, he lives aro...       0           13   \n",
       "\n",
       "   No_of_chareter  \n",
       "0              92  \n",
       "1              24  \n",
       "2             128  \n",
       "3              39  \n",
       "4              49  "
      ]
     },
     "execution_count": 21,
     "metadata": {},
     "output_type": "execute_result"
    }
   ],
   "source": [
    "df.head()"
   ]
  },
  {
   "cell_type": "markdown",
   "metadata": {
    "id": "6dNPfI96vvQb"
   },
   "source": [
    "Analysiing the Data\n"
   ]
  },
  {
   "cell_type": "code",
   "execution_count": 7,
   "metadata": {
    "colab": {
     "base_uri": "https://localhost:8080/",
     "height": 758
    },
    "id": "DfZzIDXT5M4L",
    "outputId": "d811300c-dca4-47c3-f4c0-b61cb28e3877"
   },
   "outputs": [
    {
     "data": {
      "image/png": "[encoded data removed]",
      "text/plain": [
       "<Figure size 750x750 with 13 Axes>"
      ]
     },
     "metadata": {},
     "output_type": "display_data"
    }
   ],
   "source": [
    "\n",
    "heatmap_data = df[['Result', 'No_of_chareter', 'No_of_words']]\n",
    "\n",
    "correlation_matrix = heatmap_data.corr()\n",
    "sns.pairplot( df[['Result', 'No_of_chareter','No_of_words']])\n",
    "sns.heatmap(correlation_matrix, annot=True, cmap='coolwarm')\n",
    "\n",
    "plt.show()\n"
   ]
  },
  {
   "cell_type": "markdown",
   "metadata": {
    "id": "6DxvNySLdi0k"
   },
   "source": [
    " **Text Preprocess**\n",
    "- lower case\n",
    "- remove punctuation\n",
    "- Stop words"
   ]
  },
  {
   "cell_type": "markdown",
   "metadata": {
    "id": "hj8Aka03w0Jl"
   },
   "source": [
    "#Preprocessing\n"
   ]
  },
  {
   "cell_type": "code",
   "execution_count": 22,
   "metadata": {
    "id": "0s4zHhiP5Y9V"
   },
   "outputs": [],
   "source": [
    "def text_preprocess(text):\n",
    "  text = text.lower()\n",
    "  text = word_tokenize(text)\n",
    "  y =[]\n",
    "  for i in text:\n",
    "    if i not in punctuation:\n",
    "      y.append(i)\n",
    "  text = y[:]\n",
    "  y.clear()\n",
    "  newStop = set(stopwords.words(\"english\"))\n",
    "  for i in text:\n",
    "    if i not in newStop:\n",
    "      y.append(i)\n",
    "  text = y[:]\n",
    "  y.clear()\n",
    "  stemmer = PorterStemmer()\n",
    "  y = [stemmer.stem(words) for words in text ]\n",
    "  return \" \".join(y)\n",
    "df[\"Processed_text\"] = df[\"Message\"].apply(text_preprocess)"
   ]
  },
  {
   "cell_type": "code",
   "execution_count": 23,
   "metadata": {
    "colab": {
     "base_uri": "https://localhost:8080/",
     "height": 275
    },
    "id": "43ukqIyg5arS",
    "outputId": "6984f2d9-9305-451a-d1e5-0c780f84c235"
   },
   "outputs": [
    {
     "data": {
      "text/html": [
       "<div>\n",
       "<style scoped>\n",
       "    .dataframe tbody tr th:only-of-type {\n",
       "        vertical-align: middle;\n",
       "    }\n",
       "\n",
       "    .dataframe tbody tr th {\n",
       "        vertical-align: top;\n",
       "    }\n",
       "\n",
       "    .dataframe thead th {\n",
       "        text-align: right;\n",
       "    }\n",
       "</style>\n",
       "<table border=\"1\" class=\"dataframe\">\n",
       "  <thead>\n",
       "    <tr style=\"text-align: right;\">\n",
       "      <th></th>\n",
       "      <th>Message</th>\n",
       "      <th>Result</th>\n",
       "      <th>No_of_words</th>\n",
       "      <th>No_of_chareter</th>\n",
       "      <th>Processed_text</th>\n",
       "    </tr>\n",
       "  </thead>\n",
       "  <tbody>\n",
       "    <tr>\n",
       "      <th>0</th>\n",
       "      <td>Go until jurong point, crazy.. Available only ...</td>\n",
       "      <td>0</td>\n",
       "      <td>20</td>\n",
       "      <td>92</td>\n",
       "      <td>go jurong point crazi .. avail bugi n great wo...</td>\n",
       "    </tr>\n",
       "    <tr>\n",
       "      <th>1</th>\n",
       "      <td>Ok lar... Joking wif u oni...</td>\n",
       "      <td>0</td>\n",
       "      <td>6</td>\n",
       "      <td>24</td>\n",
       "      <td>ok lar ... joke wif u oni ...</td>\n",
       "    </tr>\n",
       "    <tr>\n",
       "      <th>2</th>\n",
       "      <td>Free entry in 2 a wkly comp to win FA Cup fina...</td>\n",
       "      <td>1</td>\n",
       "      <td>28</td>\n",
       "      <td>128</td>\n",
       "      <td>free entri 2 wkli comp win fa cup final tkt 21...</td>\n",
       "    </tr>\n",
       "    <tr>\n",
       "      <th>3</th>\n",
       "      <td>U dun say so early hor... U c already then say...</td>\n",
       "      <td>0</td>\n",
       "      <td>11</td>\n",
       "      <td>39</td>\n",
       "      <td>u dun say earli hor ... u c alreadi say ...</td>\n",
       "    </tr>\n",
       "    <tr>\n",
       "      <th>4</th>\n",
       "      <td>Nah I don't think he goes to usf, he lives aro...</td>\n",
       "      <td>0</td>\n",
       "      <td>13</td>\n",
       "      <td>49</td>\n",
       "      <td>nah n't think goe usf live around though</td>\n",
       "    </tr>\n",
       "  </tbody>\n",
       "</table>\n",
       "</div>"
      ],
      "text/plain": [
       "                                             Message  Result  No_of_words  \\\n",
       "0  Go until jurong point, crazy.. Available only ...       0           20   \n",
       "1                      Ok lar... Joking wif u oni...       0            6   \n",
       "2  Free entry in 2 a wkly comp to win FA Cup fina...       1           28   \n",
       "3  U dun say so early hor... U c already then say...       0           11   \n",
       "4  Nah I don't think he goes to usf, he lives aro...       0           13   \n",
       "\n",
       "   No_of_chareter                                     Processed_text  \n",
       "0              92  go jurong point crazi .. avail bugi n great wo...  \n",
       "1              24                      ok lar ... joke wif u oni ...  \n",
       "2             128  free entri 2 wkli comp win fa cup final tkt 21...  \n",
       "3              39        u dun say earli hor ... u c alreadi say ...  \n",
       "4              49           nah n't think goe usf live around though  "
      ]
     },
     "execution_count": 23,
     "metadata": {},
     "output_type": "execute_result"
    }
   ],
   "source": [
    "\n",
    "df.head()\n"
   ]
  },
  {
   "cell_type": "code",
   "execution_count": 10,
   "metadata": {
    "colab": {
     "base_uri": "https://localhost:8080/",
     "height": 452
    },
    "id": "2MCg8981mzW1",
    "outputId": "8719677c-ef75-4bdd-8c26-9518497227b5"
   },
   "outputs": [
    {
     "data": {
      "image/png": "[encoded data removed]",
      "text/plain": [
       "<Figure size 640x480 with 1 Axes>"
      ]
     },
     "metadata": {},
     "output_type": "display_data"
    }
   ],
   "source": [
    "\n",
    "\n",
    "from matplotlib import pyplot as plt\n",
    "df['Result'].plot(kind='hist', bins=20, title='Result')\n",
    "plt.gca().spines[['top', 'right',]].set_visible(False)"
   ]
  },
  {
   "cell_type": "markdown",
   "metadata": {
    "id": "x_aQpjGa5vZ9"
   },
   "source": []
  },
  {
   "cell_type": "markdown",
   "metadata": {
    "id": "-lykYp-Jw-o9"
   },
   "source": [
    "#Creating a Model\n"
   ]
  },
  {
   "cell_type": "code",
   "execution_count": 24,
   "metadata": {
    "id": "lXjcNPvg57dy"
   },
   "outputs": [],
   "source": [
    "from scipy.sparse import hstack\n",
    "from scipy import sparse\n",
    "XCount = df['Processed_text']\n",
    "YCount = df['Result']\n",
    "\n",
    "\n",
    "Tfidf = TfidfVectorizer()\n",
    "\n",
    "\n",
    "XTfidf = Tfidf.fit_transform(XCount)\n",
    "\n",
    "X_train , X_test, Y_train , Y_test = train_test_split(XTfidf,YCount,test_size = 0.2)"
   ]
  },
  {
   "cell_type": "code",
   "execution_count": 25,
   "metadata": {
    "id": "z4aUdCuJ6AFV"
   },
   "outputs": [],
   "source": [
    "\n",
    "modelMM = MNM.fit(X_train.toarray(), Y_train)\n",
    "predictionM = modelMM.predict(X_test.toarray())"
   ]
  },
  {
   "cell_type": "code",
   "execution_count": 26,
   "metadata": {
    "colab": {
     "base_uri": "https://localhost:8080/"
    },
    "id": "fpoynjGf6LrY",
    "outputId": "6aac75bb-95b5-4812-aa46-23c905bd98c8"
   },
   "outputs": [
    {
     "name": "stdout",
     "output_type": "stream",
     "text": [
      "1.0\n",
      "MM -  0.967713004484305\n"
     ]
    }
   ],
   "source": [
    "\n",
    "\n",
    "print(precision_score(Y_test,predictionM))\n",
    "\n",
    "\n",
    "\n",
    "print(f'MM -  {accuracy_score(Y_test,predictionM )}')"
   ]
  },
  {
   "cell_type": "code",
   "execution_count": 34,
   "metadata": {
    "id": "0wRxO2IU6N-6"
   },
   "outputs": [],
   "source": [
    "newsrtring = \"Go until jurong point, crazy.. Available only \"\n",
    "text = text_preprocess(newsrtring)"
   ]
  },
  {
   "cell_type": "code",
   "execution_count": 35,
   "metadata": {
    "id": "K9vhv2RrtIcT"
   },
   "outputs": [],
   "source": [
    "text = Tfidf.transform([text])\n",
    "predictionM = modelMM.predict(text.toarray())"
   ]
  },
  {
   "cell_type": "code",
   "execution_count": 36,
   "metadata": {
    "colab": {
     "base_uri": "https://localhost:8080/"
    },
    "id": "eSqycUGz6b6W",
    "outputId": "20d27b9c-c431-4af0-b52c-d8960e3c20f0"
   },
   "outputs": [
    {
     "data": {
      "text/plain": [
       "array([0], dtype=int64)"
      ]
     },
     "execution_count": 36,
     "metadata": {},
     "output_type": "execute_result"
    }
   ],
   "source": [
    "predictionM"
   ]
  },
  {
   "cell_type": "code",
   "execution_count": 37,
   "metadata": {
    "id": "2-nH84SW6dNh"
   },
   "outputs": [
    {
     "name": "stdout",
     "output_type": "stream",
     "text": [
      "ham\n"
     ]
    }
   ],
   "source": [
    "print(\"spam\") if predictionM[0]==1  else print(\"ham\") "
   ]
  },
  {
   "cell_type": "code",
   "execution_count": null,
   "metadata": {},
   "outputs": [],
   "source": []
  }
 ],
 "metadata": {
  "colab": {
   "provenance": []
  },
  "kernelspec": {
   "display_name": "Python 3 (ipykernel)",
   "language": "python",
   "name": "python3"
  },
  "language_info": {
   "codemirror_mode": {
    "name": "ipython",
    "version": 3
   },
   "file_extension": ".py",
   "mimetype": "text/x-python",
   "name": "python",
   "nbconvert_exporter": "python",
   "pygments_lexer": "ipython3",
   "version": "3.11.4"
  }
 },
 "nbformat": 4,
 "nbformat_minor": 4
}
